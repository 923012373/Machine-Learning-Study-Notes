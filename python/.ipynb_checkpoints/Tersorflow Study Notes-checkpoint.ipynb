{
 "cells": [
  {
   "cell_type": "markdown",
   "metadata": {},
   "source": [
    "# Tensorflow学习笔记"
   ]
  },
  {
   "cell_type": "markdown",
   "metadata": {},
   "source": [
    "Tensorflow是近年来非常非常流行的一个分布式的机器学习框架，之前一直想学习但是一直都被各种各样的事情耽搁着。这学期恰好选了“人工神经网络”这门课，不得不接触这个框架了。昨天本来就开始安装，看到书上的教程就通过Anaconda来配置环境，安装tensorflow。最后tensorflow是安装好了但是用起来是真麻烦。最后卸载了Anaconda在裸机上用`pip install tensorflow`来安装，可是裸机上的python是3.6.3版本的，似乎不支持tensorflow，于是在电脑上安装了另一个版本的python才算解决了这个问题，哎！说多了都是泪。言归正传，现在通过一个softmax实现手写字母识别的例子来正式进入tensorflow学习之旅。\n",
    "\n",
    "softmax是一个非常常见的函数处理方式，它允许我们将模型的输出归一化并且以概率的形式输出，是非常有用的一种处理方式。具体的内容可以参见这个知乎问题[Softmax 函数的特点和作用是什么？](https://www.zhihu.com/question/23765351)\n",
    "\n",
    "## 数据集\n",
    "\n",
    "本例采用的是`mnist`数据集，这是机器学习领域非常有名的一个数据集，首先我们来看一下这个数据集："
   ]
  },
  {
   "cell_type": "code",
   "execution_count": 12,
   "metadata": {},
   "outputs": [
    {
     "name": "stdout",
     "output_type": "stream",
     "text": [
      "Extracting MNIST_data/train-images-idx3-ubyte.gz\n",
      "Extracting MNIST_data/train-labels-idx1-ubyte.gz\n",
      "Extracting MNIST_data/t10k-images-idx3-ubyte.gz\n",
      "Extracting MNIST_data/t10k-labels-idx1-ubyte.gz\n",
      "训练集数据的大小为：(55000, 784)\n"
     ]
    },
    {
     "data": {
      "image/png": "[encoded data removed]",
      "text/plain": [
       "<Figure size 432x288 with 3 Axes>"
      ]
     },
     "metadata": {},
     "output_type": "display_data"
    }
   ],
   "source": [
    "from tensorflow.examples.tutorials.mnist import input_data\n",
    "import os\n",
    "import matplotlib.pyplot as plt\n",
    "import numpy as np\n",
    "\n",
    "os.environ[\"TF_CPP_MIN_LOG_LEVEL\"]='3'#禁止输出警告信息\n",
    "#加载mnist数据集，one_hot设定为True是使用向量的形式编码数据类别，这主要是考虑到使用softmax\n",
    "mnist = input_data.read_data_sets(\"MNIST_data/\", one_hot=True)\n",
    "print(\"训练集数据的大小为：{0}\".format(mnist.train.images.shape))\n",
    "fig = plt.figure(\"数据展示\")\n",
    "for k in range(3):\n",
    "    result = []\n",
    "    temp = []\n",
    "    img = mnist.train.images[k]#获得第一幅图片，是一个28*28的图片展开成的784维的向量，\n",
    "    for i in range(img.shape[0]):\n",
    "        temp.append(img[i])\n",
    "        if (i + 1) % 28 == 0:\n",
    "            result.append(temp)\n",
    "            temp = []\n",
    "    img = np.matrix(result, dtype=np.float)#获取第一幅图片的矩阵形式\n",
    "    ax = fig.add_subplot(130 + k + 1)\n",
    "    ax.imshow(img)\n",
    "plt.show()"
   ]
  },
  {
   "cell_type": "markdown",
   "metadata": {},
   "source": [
    "可以看到，该数据集的训练集是一个55000x784的数据集。数据集中每一个行向量代表着一个28x28图片的一维展开，虽然说在图片识别中像素点的位置页蕴含着非常大的信息，但是在这里就不在意那么多了，仅仅将其一维展开就可以。笔者用mat将数据集中的前三个图像画了出来展示在上面，接下来就要用到softmax回归的方法实现一个基本的首写字母识别。\n",
    "\n",
    "## softmax回归\n",
    "\n",
    "在这里简要介绍一下softmax回归的相关知识。softmax回归也是线性回归的一种，只不过是在输出层使用了softmax函数进行处理。具体的训练方法上也是使用了经典的随机梯度下降法训练。其判别函数有如下形式：\n",
    "\n",
    "$$f(x)=wx+b$$\n",
    "\n",
    "**注意：softmax回归可以用于处理多分类问题，因此上式中的所有变量都是矩阵或向量形式。**\n",
    "\n",
    "模型的输出f(x)还并不是最终的输出，还需要用softmax函数进行处理，softmax函数的形式如下所示:\n",
    "\n",
    "$$softmax(x)=\\frac{exp(x_{i})}{\\sum_{j}^{n}exp(x_{j})}$$\n",
    "\n",
    "这样处理后的模型输出可以表达输入数据在各个标签分类上的概率表达，此外使用softmax函数还有着其他很多的好处，最主要的还是在损失函数上的便利。此处不一一列举。\n",
    "\n",
    "最后，softmax回归的损失函数采用信息熵的形式给出：\n",
    "\n",
    "$$H_{y^{'}}(y)=-\\sum y_{i}^{'}ln(y_{i})$$\n",
    "\n",
    "用链式求导法得到其关于`w`的导数，用随机梯度下降法就能得到最终的解，接下来我们来编程实现。\n",
    "\n",
    "## tensroflow实现softmax回归\n",
    "\n",
    "首先我们定义模型中的各个参数，其中x和真实的标签值y_不设定死，代码如下："
   ]
  },
  {
   "cell_type": "code",
   "execution_count": 17,
   "metadata": {},
   "outputs": [],
   "source": [
    "import tensorflow as tf\n",
    "\n",
    "session = tf.InteractiveSession()#定义一个交互式会话\n",
    "x = tf.placeholder(tf.float32, [None, 784])\n",
    "w = tf.Variable(tf.zeros([784, 10]))#权重w初始化为0\n",
    "b = tf.Variable(tf.zeros([1, 10]))#bias初始化为0\n",
    "y = tf.nn.softmax(tf.matmul(x, w) + b)\n",
    "y_ = tf.placeholder(tf.float32, [None, 10])"
   ]
  },
  {
   "cell_type": "markdown",
   "metadata": {},
   "source": [
    "设定其损失函数`cross_entry`，规定优化目标，初始化全局参数："
   ]
  },
  {
   "cell_type": "code",
   "execution_count": 21,
   "metadata": {},
   "outputs": [],
   "source": [
    "cross_entry = -tf.reduce_mean(tf.reduce_sum(y_ * tf.log(y), reduction_indices=[1]))\n",
    "train_set = tf.train.GradientDescentOptimizer(0.5).minimize(cross_entry)\n",
    "tf.global_variables_initializer().run()"
   ]
  },
  {
   "cell_type": "markdown",
   "metadata": {},
   "source": [
    "准备工作都差不多做完了，接下来应该进行模型的训练。在本例中迭代一千次，每次从训练集中随机选取100组数据训练模型。"
   ]
  },
  {
   "cell_type": "code",
   "execution_count": 22,
   "metadata": {},
   "outputs": [],
   "source": [
    "for i in range(1000):\n",
    "    trainSet, trainLabel = mnist.train.next_batch(100)\n",
    "    train_set.run(feed_dict={x: trainSet, y_: trainLabel})"
   ]
  },
  {
   "cell_type": "markdown",
   "metadata": {},
   "source": [
    "以上，我们已经完成了模型的训练，现在应该检测一下模型的效果。我们使用mnist的测试数据来测试模型的分类效果："
   ]
  },
  {
   "cell_type": "code",
   "execution_count": 28,
   "metadata": {},
   "outputs": [
    {
     "name": "stdout",
     "output_type": "stream",
     "text": [
      "模型的分类正确率为0.9182000160217285\n"
     ]
    }
   ],
   "source": [
    "accuracy = tf.cast(tf.equal(tf.argmax(y, 1), tf.argmax(y_, 1)), dtype=tf.float32)\n",
    "accuracy = tf.reduce_mean(accuracy)\n",
    "print(\"模型的分类正确率为{0}\".format(session.run(accuracy, feed_dict={x: mnist.test.images, y_: mnist.test.labels})))"
   ]
  },
  {
   "cell_type": "markdown",
   "metadata": {},
   "source": [
    "可以看到，该模型的分类准确率还是非常高的，达到了接近92%。\n",
    "\n",
    "ok，今天的分享就到这里，很高兴tensorflow终于入了门。接下来还有很长的路要走，下一步可能会开始关注RNN。"
   ]
  }
 ],
 "metadata": {
  "kernelspec": {
   "display_name": "Python 3",
   "language": "python",
   "name": "python3"
  },
  "language_info": {
   "codemirror_mode": {
    "name": "ipython",
    "version": 3
   },
   "file_extension": ".py",
   "mimetype": "text/x-python",
   "name": "python",
   "nbconvert_exporter": "python",
   "pygments_lexer": "ipython3",
   "version": "3.5.2"
  }
 },
 "nbformat": 4,
 "nbformat_minor": 2
}
