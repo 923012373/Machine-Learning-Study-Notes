{
 "cells": [
  {
   "cell_type": "markdown",
   "metadata": {},
   "source": [
    "# Tensorflow部分方法介绍\n",
    "\n",
    "* **random_uniform** 函数用来产生一个随机生成的矩阵\n",
    "\n",
    "```python\n",
    "tf.random_uniform(shape, dtype, seed, seed2, name)\n",
    "```\n",
    "\n",
    "    参数说明：\n",
    "\n",
    "    * shape：生成随机矩阵的大小，通常以列表或元组形式给出。例如：shape=(size1, size2)或shape=[size1, size2]\n",
    "\n",
    "    * dtype：生成随机矩阵中值的类型。\n",
    "\n",
    "    * seed：随机数生成的下界。\n",
    "\n",
    "    * seed2：随机数生成的的上界。\n",
    "\n",
    "\n",
    "* **embedding_lookup** 函数用于截取矩阵的某几行\n",
    "\n",
    "```python\n",
    "tf.nn.embedding_lookup(params, ids)\n",
    "```\n",
    "\n",
    "    参数说明：\n",
    "    \n",
    "    * params：截取的目标矩阵。\n",
    "    \n",
    "    * ids：截取行数，通常用列表形式给出。例如要截取params矩阵的第1,2,3行，就应该如下写：ids=[1,2,3]\n",
    "\n",
    "* **truncated_normal** 用于产生一个服从正态分布的矩阵\n",
    "\n",
    "```python\n",
    "tf.truncated_normal(shape, mean, stddev, dtype, seed, name)\n",
    "```\n",
    "\n",
    "    参数说明：\n",
    "    \n",
    "    * shape：矩阵的大小，通常用元组形式给出。例如：shape=(size1, size2)\n",
    "    \n",
    "    * mean：矩阵中均值的大小。\n",
    "    \n",
    "    * stddev：矩阵中标准差。\n"
   ]
  },
  {
   "cell_type": "code",
   "execution_count": null,
   "metadata": {},
   "outputs": [],
   "source": []
  }
 ],
 "metadata": {
  "kernelspec": {
   "display_name": "Python 3",
   "language": "python",
   "name": "python3"
  },
  "language_info": {
   "codemirror_mode": {
    "name": "ipython",
    "version": 3
   },
   "file_extension": ".py",
   "mimetype": "text/x-python",
   "name": "python",
   "nbconvert_exporter": "python",
   "pygments_lexer": "ipython3",
   "version": "3.5.2"
  }
 },
 "nbformat": 4,
 "nbformat_minor": 2
}
